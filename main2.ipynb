{
 "cells": [
  {
   "cell_type": "code",
   "execution_count": 1,
   "id": "eacf1204-5757-4ccc-9bde-0ad883c42a1f",
   "metadata": {
    "tags": []
   },
   "outputs": [],
   "source": [
    "import numpy as np\n",
    "from scipy.optimize import fsolve, minimize\n",
    "import sympy as sp\n",
    "import numpy as np\n",
    "import matplotlib.pyplot as plt\n",
    "import sys\n",
    "import warnings\n",
    "# %run \"classes_ipynb.ipynb\"\n",
    "sys.path.insert(0, \"..\")\n",
    "import classes3\n",
    "warnings.filterwarnings('ignore')"
   ]
  },
  {
   "cell_type": "code",
   "execution_count": 2,
   "id": "7053f948-34a9-47e7-9229-b2fe9581e8a9",
   "metadata": {
    "tags": []
   },
   "outputs": [],
   "source": [
    "phis,alfa,pomery,x,koefs,koefh,epsm0s,epsm0h = sp.symbols('phis,alfa,pomery,x,koefs,koefh,epsm0s,epsm0h')\n",
    "model = classes3.SCHR(phis=phis,alfa=alfa,x=x)"
   ]
  },
  {
   "cell_type": "code",
   "execution_count": 19,
   "id": "0f1f93be-7198-4120-b3d2-d2c503c4eb79",
   "metadata": {
    "tags": []
   },
   "outputs": [],
   "source": [
    "t = [1,0]\n",
    "s = [1,0]\n",
    "h = [1,0]"
   ]
  },
  {
   "cell_type": "code",
   "execution_count": 28,
   "id": "61e7aa98-7e36-4dd9-8f48-f0d20ba072c3",
   "metadata": {
    "tags": []
   },
   "outputs": [],
   "source": [
    "model = classes3.SCHR(phis=phis,alfa=alfa,x=x)\n",
    "model.add_muscle(l0=0.1,scap_ins=s,thorax_ins = t,muscle_group = 'ThorScap')\n",
    "model.add_muscle(l0=0.1,scap_ins=s,humer_ins = h,muscle_group = 'ScapHum')"
   ]
  },
  {
   "cell_type": "code",
   "execution_count": 6,
   "id": "bfa14b52-3087-402b-b0dd-2c069578a655",
   "metadata": {
    "tags": []
   },
   "outputs": [],
   "source": [
    "# lambd = sp.lambdify((phis),model.U_muscles[0])\n",
    "# phi = np.linspace(0,np.pi/2,100)\n",
    "# plt.plot(phi,lambd(phi))\n",
    "# plt.plot()"
   ]
  },
  {
   "cell_type": "code",
   "execution_count": null,
   "id": "efa9c8b2-2a20-4b09-8ebf-54261f64c332",
   "metadata": {},
   "outputs": [],
   "source": []
  }
 ],
 "metadata": {
  "kernelspec": {
   "display_name": "Python 3 (ipykernel)",
   "language": "python",
   "name": "python3"
  },
  "language_info": {
   "codemirror_mode": {
    "name": "ipython",
    "version": 3
   },
   "file_extension": ".py",
   "mimetype": "text/x-python",
   "name": "python",
   "nbconvert_exporter": "python",
   "pygments_lexer": "ipython3",
   "version": "3.11.5"
  }
 },
 "nbformat": 4,
 "nbformat_minor": 5
}
